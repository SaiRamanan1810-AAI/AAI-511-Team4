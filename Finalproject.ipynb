{
 "cells": [
  {
   "cell_type": "code",
   "execution_count": 1,
   "id": "145e3e59-2a9b-463c-8ee6-82983bcf8632",
   "metadata": {},
   "outputs": [],
   "source": [
    "# If anything is missing, uncomment the next line and run once:\n",
    "# !pip install pretty_midi music21 librosa scikit-learn tensorflow matplotlib -q\n",
    "\n",
    "import os, math, random, warnings, gc\n",
    "warnings.filterwarnings(\"ignore\")\n",
    "\n",
    "import numpy as np\n",
    "import pandas as pd\n",
    "from pathlib import Path\n",
    "from glob import glob\n",
    "import matplotlib.pyplot as plt\n",
    "\n",
    "import pretty_midi\n",
    "\n",
    "from sklearn.model_selection import train_test_split\n",
    "from sklearn.preprocessing import LabelEncoder\n",
    "from sklearn.metrics import classification_report, confusion_matrix, accuracy_score, precision_score, recall_score\n",
    "from sklearn.utils.class_weight import compute_class_weight\n",
    "\n",
    "import tensorflow as tf\n",
    "from tensorflow import keras\n",
    "from tensorflow.keras import layers\n",
    "\n",
    "SEED = 42\n",
    "random.seed(SEED); np.random.seed(SEED); tf.random.set_seed(SEED)\n",
    "\n",
    "# Parameters you can tweak\n",
    "TARGET_COMPOSERS = [\"Bach\", \"Beethoven\", \"Chopin\", \"Mozart\"]\n",
    "MAX_SEQ_LEN = 1024        # tokens for LSTM\n",
    "DUR_QUANT   = 0.05        # seconds -> duration bucket size\n",
    "FS          = 16          # frames per second for piano-roll\n",
    "MAX_TIME    = 30.0        # seconds per example for piano-roll\n",
    "BATCH_SIZE  = 16\n",
    "EPOCHS      = 30\n",
    "\n",
    "# Vocab sizes for embeddings (keep these as-is)\n",
    "PITCH_VOCAB = 128 + 1     # 0..127 + padding(0)\n",
    "DUR_VOCAB   = 1000 + 1    # 0..1000 (0 is padding)\n"
   ]
  },
  {
   "cell_type": "markdown",
   "id": "2f990fcf-a49b-4c59-9649-6f9ba6d98778",
   "metadata": {},
   "source": [
    "## 1) Load file list from folders"
   ]
  },
  {
   "cell_type": "code",
   "execution_count": 3,
   "id": "39a0ce06-2da1-460a-819f-17b44bc8c5b3",
   "metadata": {},
   "outputs": [
    {
     "name": "stdout",
     "output_type": "stream",
     "text": [
      "Loaded files per composer:\n",
      "composer\n",
      "Bach         1027\n",
      "Mozart        257\n",
      "Beethoven     213\n",
      "Chopin        136\n",
      "Name: count, dtype: int64\n"
     ]
    },
    {
     "data": {
      "text/html": [
       "<div>\n",
       "<style scoped>\n",
       "    .dataframe tbody tr th:only-of-type {\n",
       "        vertical-align: middle;\n",
       "    }\n",
       "\n",
       "    .dataframe tbody tr th {\n",
       "        vertical-align: top;\n",
       "    }\n",
       "\n",
       "    .dataframe thead th {\n",
       "        text-align: right;\n",
       "    }\n",
       "</style>\n",
       "<table border=\"1\" class=\"dataframe\">\n",
       "  <thead>\n",
       "    <tr style=\"text-align: right;\">\n",
       "      <th></th>\n",
       "      <th>path</th>\n",
       "      <th>composer</th>\n",
       "    </tr>\n",
       "  </thead>\n",
       "  <tbody>\n",
       "    <tr>\n",
       "      <th>0</th>\n",
       "      <td>C:\\Users\\PR\\AIsandiego\\AAI -511\\Module7\\Projec...</td>\n",
       "      <td>Bach</td>\n",
       "    </tr>\n",
       "    <tr>\n",
       "      <th>1</th>\n",
       "      <td>C:\\Users\\PR\\AIsandiego\\AAI -511\\Module7\\Projec...</td>\n",
       "      <td>Mozart</td>\n",
       "    </tr>\n",
       "    <tr>\n",
       "      <th>2</th>\n",
       "      <td>C:\\Users\\PR\\AIsandiego\\AAI -511\\Module7\\Projec...</td>\n",
       "      <td>Bach</td>\n",
       "    </tr>\n",
       "    <tr>\n",
       "      <th>3</th>\n",
       "      <td>C:\\Users\\PR\\AIsandiego\\AAI -511\\Module7\\Projec...</td>\n",
       "      <td>Bach</td>\n",
       "    </tr>\n",
       "    <tr>\n",
       "      <th>4</th>\n",
       "      <td>C:\\Users\\PR\\AIsandiego\\AAI -511\\Module7\\Projec...</td>\n",
       "      <td>Bach</td>\n",
       "    </tr>\n",
       "  </tbody>\n",
       "</table>\n",
       "</div>"
      ],
      "text/plain": [
       "                                                path composer\n",
       "0  C:\\Users\\PR\\AIsandiego\\AAI -511\\Module7\\Projec...     Bach\n",
       "1  C:\\Users\\PR\\AIsandiego\\AAI -511\\Module7\\Projec...   Mozart\n",
       "2  C:\\Users\\PR\\AIsandiego\\AAI -511\\Module7\\Projec...     Bach\n",
       "3  C:\\Users\\PR\\AIsandiego\\AAI -511\\Module7\\Projec...     Bach\n",
       "4  C:\\Users\\PR\\AIsandiego\\AAI -511\\Module7\\Projec...     Bach"
      ]
     },
     "execution_count": 3,
     "metadata": {},
     "output_type": "execute_result"
    }
   ],
   "source": [
    "ROOT = Path(\".\").resolve()\n",
    "rows = []\n",
    "for comp in TARGET_COMPOSERS:\n",
    "    d = ROOT/comp\n",
    "    if not d.exists():\n",
    "        print(f\"⚠️ Missing folder: {d}\")\n",
    "        continue\n",
    "    # recursive search for .mid/.midi\n",
    "    for p in d.rglob(\"*\"):\n",
    "        if p.is_file() and p.suffix.lower() in [\".mid\", \".midi\"]:\n",
    "            rows.append({\"path\": str(p), \"composer\": comp})\n",
    "\n",
    "df = pd.DataFrame(rows)\n",
    "if df.empty:\n",
    "    raise RuntimeError(\"No MIDI files found in Bach/Beethoven/Chopin/Mozart folders.\")\n",
    "df = df.sample(frac=1.0, random_state=SEED).reset_index(drop=True)\n",
    "\n",
    "print(\"Loaded files per composer:\")\n",
    "print(df[\"composer\"].value_counts())\n",
    "df.head()\n"
   ]
  },
  {
   "cell_type": "markdown",
   "id": "acbefd35-5c2b-4d3b-bc5e-b116ac18ae4b",
   "metadata": {},
   "source": [
    "## 2) Train/Val/Test split + label encoding"
   ]
  },
  {
   "cell_type": "code",
   "execution_count": 5,
   "id": "d1504ef2-e361-4490-b089-a56c028ca11a",
   "metadata": {},
   "outputs": [
    {
     "name": "stdout",
     "output_type": "stream",
     "text": [
      "Classes: ['Bach', 'Beethoven', 'Chopin', 'Mozart']\n"
     ]
    },
    {
     "data": {
      "text/plain": [
       "(1179, 209, 245)"
      ]
     },
     "execution_count": 5,
     "metadata": {},
     "output_type": "execute_result"
    }
   ],
   "source": [
    "le = LabelEncoder()\n",
    "df[\"label\"] = le.fit_transform(df[\"composer\"])\n",
    "num_classes = len(le.classes_)\n",
    "print(\"Classes:\", list(le.classes_))\n",
    "\n",
    "train_df, test_df = train_test_split(df, test_size=0.15, random_state=SEED, stratify=df[\"label\"])\n",
    "train_df, val_df  = train_test_split(train_df, test_size=0.15, random_state=SEED, stratify=train_df[\"label\"])\n",
    "\n",
    "len(train_df), len(val_df), len(test_df)\n"
   ]
  },
  {
   "cell_type": "markdown",
   "id": "f775f6d3-e42e-4ee0-a9d3-e24ea38bf2e4",
   "metadata": {},
   "source": [
    "## 3) MIDI parsing + feature builders"
   ]
  },
  {
   "cell_type": "code",
   "execution_count": 7,
   "id": "9c30232a-d71c-4de6-83ff-b2dc3de981ea",
   "metadata": {},
   "outputs": [],
   "source": [
    "def load_pm(path):\n",
    "    try:\n",
    "        return pretty_midi.PrettyMIDI(path)\n",
    "    except Exception as e:\n",
    "        print(f\"[WARN] Could not parse {path}: {e}\")\n",
    "        return None\n",
    "\n",
    "def extract_notes(pm):\n",
    "    \"\"\"Return list of (pitch, duration_seconds) from all non-drum tracks.\"\"\"\n",
    "    notes = []\n",
    "    if pm is None:\n",
    "        return notes\n",
    "    for inst in pm.instruments:\n",
    "        if inst.is_drum:\n",
    "            continue\n",
    "        for n in inst.notes:\n",
    "            dur = max(1e-3, n.end - n.start)\n",
    "            notes.append((n.pitch, dur))\n",
    "    # keep as-is; no sorting needed beyond original order\n",
    "    return notes\n",
    "\n",
    "def to_token_sequence(notes, max_len=MAX_SEQ_LEN, duration_quant=DUR_QUANT):\n",
    "    \"\"\"\n",
    "    Map notes -> fixed-length sequence of (pitch, dur_bucket).\n",
    "    Pads with (0,0). Clips to vocab ranges.\n",
    "    \"\"\"\n",
    "    seq = []\n",
    "    for (pitch, dur) in notes:\n",
    "        pitch = int(np.clip(int(pitch), 0, 127))\n",
    "        dur_bucket = int(np.clip(round(dur / duration_quant), 1, 1000))  # 1..1000; 0 reserved for pad\n",
    "        seq.append((pitch, dur_bucket))\n",
    "        if len(seq) >= max_len:\n",
    "            break\n",
    "    if len(seq) < max_len:\n",
    "        seq += [(0,0)] * (max_len - len(seq))\n",
    "    return np.array(seq, dtype=np.int32)\n",
    "\n",
    "def build_pianoroll(pm, fs=FS, max_time=MAX_TIME):\n",
    "    \"\"\"\n",
    "    Build binarized piano-roll of shape (T, 128). T = fs * max_time.\n",
    "    \"\"\"\n",
    "    T = int(fs * max_time)\n",
    "    roll = np.zeros((T, 128), dtype=np.float32)\n",
    "    if pm is None:\n",
    "        return roll\n",
    "    for inst in pm.instruments:\n",
    "        if inst.is_drum:\n",
    "            continue\n",
    "        for n in inst.notes:\n",
    "            if n.start >= max_time:\n",
    "                continue\n",
    "            s = int(np.clip(math.floor(n.start*fs), 0, T-1))\n",
    "            e = int(np.clip(math.ceil(min(n.end, max_time)*fs), 0, T))\n",
    "            roll[s:e, n.pitch] = 1.0\n",
    "    return roll\n"
   ]
  },
  {
   "cell_type": "markdown",
   "id": "5f2b55bd-5c2f-4be0-a1ae-daf827ff15b1",
   "metadata": {},
   "source": [
    "## 4) Light augmentation for training"
   ]
  },
  {
   "cell_type": "code",
   "execution_count": 9,
   "id": "ba16fb4d-52f5-4033-a0b4-c5486c91b092",
   "metadata": {},
   "outputs": [],
   "source": [
    "AUG_TRANSPOSE = [-2, -1, 0, 1, 2]   # semitones\n",
    "AUG_STRETCH   = [0.95, 1.0, 1.05]   # tempo stretch\n",
    "\n",
    "def transpose_notes(notes, semitones):\n",
    "    if semitones == 0: \n",
    "        return notes\n",
    "    out = []\n",
    "    for p,d in notes:\n",
    "        out.append((int(np.clip(p + semitones, 0, 127)), d))\n",
    "    return out\n",
    "\n",
    "def stretch_notes(notes, factor):\n",
    "    if abs(factor - 1.0) < 1e-6:\n",
    "        return notes\n",
    "    out = []\n",
    "    for p,d in notes:\n",
    "        out.append((p, max(1e-3, d * factor)))\n",
    "    return out\n"
   ]
  },
  {
   "cell_type": "markdown",
   "id": "767e7966-1837-46b2-a585-9494149b08f1",
   "metadata": {},
   "source": [
    "## 5) Build arrays"
   ]
  },
  {
   "cell_type": "code",
   "execution_count": 11,
   "id": "8d7dda72-0158-4a69-8bc3-f14abc16ca69",
   "metadata": {},
   "outputs": [
    {
     "name": "stdout",
     "output_type": "stream",
     "text": [
      "[WARN] Could not parse C:\\Users\\PR\\AIsandiego\\AAI -511\\Module7\\Project_PR\\Mozart\\Piano Sonatas\\Nueva carpeta\\K281 Piano Sonata n03 3mov.mid: Could not decode key with 2 flats and mode 2\n",
      "[WARN] Could not parse C:\\Users\\PR\\AIsandiego\\AAI -511\\Module7\\Project_PR\\Beethoven\\Anhang 14-3.mid: Could not decode key with 3 flats and mode 255\n",
      "Shapes:\n",
      " LSTM pitch: (1179, 1024) (209, 1024) (245, 1024)\n",
      " LSTM dur  : (1179, 1024) (209, 1024) (245, 1024)\n",
      " CNN roll  : (1179, 480, 128, 1) (209, 480, 128, 1) (245, 480, 128, 1)\n",
      "Pitch maxes (train/val/test): 104 103 100\n",
      "Dur maxes   (train/val/test): 487 464 385\n"
     ]
    }
   ],
   "source": [
    "def build_split_arrays(frame, augment=False):\n",
    "    X_seq, X_roll, y = [], [], []\n",
    "    for _, r in frame.iterrows():\n",
    "        pm = load_pm(r[\"path\"])\n",
    "        notes = extract_notes(pm)\n",
    "\n",
    "        if augment:\n",
    "            t = random.choice(AUG_TRANSPOSE)\n",
    "            s = random.choice(AUG_STRETCH)\n",
    "            notes = transpose_notes(notes, t)\n",
    "            notes = stretch_notes(notes, s)\n",
    "\n",
    "        seq = to_token_sequence(notes, max_len=MAX_SEQ_LEN, duration_quant=DUR_QUANT)\n",
    "        roll = build_pianoroll(pm, fs=FS, max_time=MAX_TIME)\n",
    "\n",
    "        X_seq.append(seq)\n",
    "        X_roll.append(roll)\n",
    "        y.append(r[\"label\"])\n",
    "\n",
    "    X_seq = np.stack(X_seq)       # (N, T, 2)\n",
    "    X_roll = np.stack(X_roll)     # (N, T, 128)\n",
    "    y = np.array(y, dtype=np.int64)\n",
    "    return X_seq, X_roll, y\n",
    "\n",
    "Xseq_train, Xroll_train, y_train = build_split_arrays(train_df, augment=True)\n",
    "Xseq_val,   Xroll_val,   y_val   = build_split_arrays(val_df,   augment=False)\n",
    "Xseq_test,  Xroll_test,  y_test  = build_split_arrays(test_df,  augment=False)\n",
    "\n",
    "# Split sequence into separate inputs (pitch, duration) and enforce bounds/dtypes\n",
    "Xseq_train_pitch = np.clip(Xseq_train[:,:,0].astype(\"int32\"), 0, 127)\n",
    "Xseq_train_dur   = np.clip(Xseq_train[:,:,1].astype(\"int32\"), 0, 1000)\n",
    "Xseq_val_pitch   = np.clip(Xseq_val[:,:,0].astype(\"int32\"),   0, 127)\n",
    "Xseq_val_dur     = np.clip(Xseq_val[:,:,1].astype(\"int32\"),   0, 1000)\n",
    "Xseq_test_pitch  = np.clip(Xseq_test[:,:,0].astype(\"int32\"),  0, 127)\n",
    "Xseq_test_dur    = np.clip(Xseq_test[:,:,1].astype(\"int32\"),  0, 1000)\n",
    "\n",
    "# CNN inputs need a channel dimension\n",
    "Xroll_train_cnn = Xroll_train[..., None].astype(\"float32\")\n",
    "Xroll_val_cnn   = Xroll_val[..., None].astype(\"float32\")\n",
    "Xroll_test_cnn  = Xroll_test[..., None].astype(\"float32\")\n",
    "\n",
    "print(\"Shapes:\")\n",
    "print(\" LSTM pitch:\", Xseq_train_pitch.shape, Xseq_val_pitch.shape, Xseq_test_pitch.shape)\n",
    "print(\" LSTM dur  :\", Xseq_train_dur.shape,   Xseq_val_dur.shape,   Xseq_test_dur.shape)\n",
    "print(\" CNN roll  :\", Xroll_train_cnn.shape,  Xroll_val_cnn.shape,  Xroll_test_cnn.shape)\n",
    "\n",
    "print(\"Pitch maxes (train/val/test):\", Xseq_train_pitch.max(), Xseq_val_pitch.max(), Xseq_test_pitch.max())\n",
    "print(\"Dur maxes   (train/val/test):\", Xseq_train_dur.max(), Xseq_val_dur.max(), Xseq_test_dur.max())\n"
   ]
  },
  {
   "cell_type": "markdown",
   "id": "d8d5a779-b428-4a50-bba1-cb5d306439c0",
   "metadata": {},
   "source": [
    "## 6) Class weights + callbacks"
   ]
  },
  {
   "cell_type": "code",
   "execution_count": 13,
   "id": "da2efb69-cbf2-4274-8910-49bb6695e714",
   "metadata": {},
   "outputs": [
    {
     "data": {
      "text/plain": [
       "{0: 0.3972371967654987,\n",
       " 1: 1.9139610389610389,\n",
       " 2: 3.00765306122449,\n",
       " 3: 1.5932432432432433}"
      ]
     },
     "execution_count": 13,
     "metadata": {},
     "output_type": "execute_result"
    }
   ],
   "source": [
    "classes = np.arange(num_classes)\n",
    "cw = compute_class_weight(class_weight=\"balanced\", classes=classes, y=y_train)\n",
    "class_weights = {i: w for i, w in zip(classes, cw)}\n",
    "class_weights\n"
   ]
  },
  {
   "cell_type": "code",
   "execution_count": 15,
   "id": "85a9142b-9360-406f-82b2-b0f9fb771045",
   "metadata": {},
   "outputs": [],
   "source": [
    "callbacks = [\n",
    "    keras.callbacks.EarlyStopping(monitor=\"val_accuracy\", patience=5, restore_best_weights=True),\n",
    "    keras.callbacks.ReduceLROnPlateau(monitor=\"val_loss\", factor=0.5, patience=3, min_lr=1e-6),\n",
    "]\n"
   ]
  },
  {
   "cell_type": "markdown",
   "id": "cd3b0dbf-c443-45e9-9d21-8d82452d2e39",
   "metadata": {},
   "source": [
    "## 7) Build models\n",
    "# 7A) LSTM "
   ]
  },
  {
   "cell_type": "markdown",
   "id": "cbdecdfb-7553-450d-a052-b9d5c7861c1c",
   "metadata": {},
   "source": [
    "7B) CNN (piano-roll as image)"
   ]
  },
  {
   "cell_type": "code",
   "execution_count": 26,
   "id": "ebd833f9-3229-485d-b5ff-ec90bcb44a74",
   "metadata": {},
   "outputs": [
    {
     "data": {
      "text/html": [
       "<pre style=\"white-space:pre;overflow-x:auto;line-height:normal;font-family:Menlo,'DejaVu Sans Mono',consolas,'Courier New',monospace\"><span style=\"font-weight: bold\">Model: \"ComposerLSTM\"</span>\n",
       "</pre>\n"
      ],
      "text/plain": [
       "\u001b[1mModel: \"ComposerLSTM\"\u001b[0m\n"
      ]
     },
     "metadata": {},
     "output_type": "display_data"
    },
    {
     "data": {
      "text/html": [
       "<pre style=\"white-space:pre;overflow-x:auto;line-height:normal;font-family:Menlo,'DejaVu Sans Mono',consolas,'Courier New',monospace\">┏━━━━━━━━━━━━━━━━━━━━━┳━━━━━━━━━━━━━━━━━━━┳━━━━━━━━━━━━┳━━━━━━━━━━━━━━━━━━━┓\n",
       "┃<span style=\"font-weight: bold\"> Layer (type)        </span>┃<span style=\"font-weight: bold\"> Output Shape      </span>┃<span style=\"font-weight: bold\">    Param # </span>┃<span style=\"font-weight: bold\"> Connected to      </span>┃\n",
       "┡━━━━━━━━━━━━━━━━━━━━━╇━━━━━━━━━━━━━━━━━━━╇━━━━━━━━━━━━╇━━━━━━━━━━━━━━━━━━━┩\n",
       "│ pitch_in            │ (<span style=\"color: #00d7ff; text-decoration-color: #00d7ff\">None</span>, <span style=\"color: #00af00; text-decoration-color: #00af00\">1024</span>)      │          <span style=\"color: #00af00; text-decoration-color: #00af00\">0</span> │ -                 │\n",
       "│ (<span style=\"color: #0087ff; text-decoration-color: #0087ff\">InputLayer</span>)        │                   │            │                   │\n",
       "├─────────────────────┼───────────────────┼────────────┼───────────────────┤\n",
       "│ dur_in (<span style=\"color: #0087ff; text-decoration-color: #0087ff\">InputLayer</span>) │ (<span style=\"color: #00d7ff; text-decoration-color: #00d7ff\">None</span>, <span style=\"color: #00af00; text-decoration-color: #00af00\">1024</span>)      │          <span style=\"color: #00af00; text-decoration-color: #00af00\">0</span> │ -                 │\n",
       "├─────────────────────┼───────────────────┼────────────┼───────────────────┤\n",
       "│ clip_pitch (<span style=\"color: #0087ff; text-decoration-color: #0087ff\">Lambda</span>) │ (<span style=\"color: #00d7ff; text-decoration-color: #00d7ff\">None</span>, <span style=\"color: #00af00; text-decoration-color: #00af00\">1024</span>)      │          <span style=\"color: #00af00; text-decoration-color: #00af00\">0</span> │ pitch_in[<span style=\"color: #00af00; text-decoration-color: #00af00\">0</span>][<span style=\"color: #00af00; text-decoration-color: #00af00\">0</span>]    │\n",
       "├─────────────────────┼───────────────────┼────────────┼───────────────────┤\n",
       "│ clip_dur (<span style=\"color: #0087ff; text-decoration-color: #0087ff\">Lambda</span>)   │ (<span style=\"color: #00d7ff; text-decoration-color: #00d7ff\">None</span>, <span style=\"color: #00af00; text-decoration-color: #00af00\">1024</span>)      │          <span style=\"color: #00af00; text-decoration-color: #00af00\">0</span> │ dur_in[<span style=\"color: #00af00; text-decoration-color: #00af00\">0</span>][<span style=\"color: #00af00; text-decoration-color: #00af00\">0</span>]      │\n",
       "├─────────────────────┼───────────────────┼────────────┼───────────────────┤\n",
       "│ pitch_emb           │ (<span style=\"color: #00d7ff; text-decoration-color: #00d7ff\">None</span>, <span style=\"color: #00af00; text-decoration-color: #00af00\">1024</span>, <span style=\"color: #00af00; text-decoration-color: #00af00\">32</span>)  │      <span style=\"color: #00af00; text-decoration-color: #00af00\">4,128</span> │ clip_pitch[<span style=\"color: #00af00; text-decoration-color: #00af00\">0</span>][<span style=\"color: #00af00; text-decoration-color: #00af00\">0</span>]  │\n",
       "│ (<span style=\"color: #0087ff; text-decoration-color: #0087ff\">Embedding</span>)         │                   │            │                   │\n",
       "├─────────────────────┼───────────────────┼────────────┼───────────────────┤\n",
       "│ dur_emb (<span style=\"color: #0087ff; text-decoration-color: #0087ff\">Embedding</span>) │ (<span style=\"color: #00d7ff; text-decoration-color: #00d7ff\">None</span>, <span style=\"color: #00af00; text-decoration-color: #00af00\">1024</span>, <span style=\"color: #00af00; text-decoration-color: #00af00\">32</span>)  │     <span style=\"color: #00af00; text-decoration-color: #00af00\">32,032</span> │ clip_dur[<span style=\"color: #00af00; text-decoration-color: #00af00\">0</span>][<span style=\"color: #00af00; text-decoration-color: #00af00\">0</span>]    │\n",
       "├─────────────────────┼───────────────────┼────────────┼───────────────────┤\n",
       "│ concat_feat         │ (<span style=\"color: #00d7ff; text-decoration-color: #00d7ff\">None</span>, <span style=\"color: #00af00; text-decoration-color: #00af00\">1024</span>, <span style=\"color: #00af00; text-decoration-color: #00af00\">64</span>)  │          <span style=\"color: #00af00; text-decoration-color: #00af00\">0</span> │ pitch_emb[<span style=\"color: #00af00; text-decoration-color: #00af00\">0</span>][<span style=\"color: #00af00; text-decoration-color: #00af00\">0</span>],  │\n",
       "│ (<span style=\"color: #0087ff; text-decoration-color: #0087ff\">Concatenate</span>)       │                   │            │ dur_emb[<span style=\"color: #00af00; text-decoration-color: #00af00\">0</span>][<span style=\"color: #00af00; text-decoration-color: #00af00\">0</span>]     │\n",
       "├─────────────────────┼───────────────────┼────────────┼───────────────────┤\n",
       "│ bidirectional       │ (<span style=\"color: #00d7ff; text-decoration-color: #00d7ff\">None</span>, <span style=\"color: #00af00; text-decoration-color: #00af00\">1024</span>, <span style=\"color: #00af00; text-decoration-color: #00af00\">256</span>) │    <span style=\"color: #00af00; text-decoration-color: #00af00\">197,632</span> │ concat_feat[<span style=\"color: #00af00; text-decoration-color: #00af00\">0</span>][<span style=\"color: #00af00; text-decoration-color: #00af00\">0</span>] │\n",
       "│ (<span style=\"color: #0087ff; text-decoration-color: #0087ff\">Bidirectional</span>)     │                   │            │                   │\n",
       "├─────────────────────┼───────────────────┼────────────┼───────────────────┤\n",
       "│ bidirectional_1     │ (<span style=\"color: #00d7ff; text-decoration-color: #00d7ff\">None</span>, <span style=\"color: #00af00; text-decoration-color: #00af00\">256</span>)       │    <span style=\"color: #00af00; text-decoration-color: #00af00\">394,240</span> │ bidirectional[<span style=\"color: #00af00; text-decoration-color: #00af00\">0</span>]… │\n",
       "│ (<span style=\"color: #0087ff; text-decoration-color: #0087ff\">Bidirectional</span>)     │                   │            │                   │\n",
       "├─────────────────────┼───────────────────┼────────────┼───────────────────┤\n",
       "│ dropout (<span style=\"color: #0087ff; text-decoration-color: #0087ff\">Dropout</span>)   │ (<span style=\"color: #00d7ff; text-decoration-color: #00d7ff\">None</span>, <span style=\"color: #00af00; text-decoration-color: #00af00\">256</span>)       │          <span style=\"color: #00af00; text-decoration-color: #00af00\">0</span> │ bidirectional_1[<span style=\"color: #00af00; text-decoration-color: #00af00\">…</span> │\n",
       "├─────────────────────┼───────────────────┼────────────┼───────────────────┤\n",
       "│ dense (<span style=\"color: #0087ff; text-decoration-color: #0087ff\">Dense</span>)       │ (<span style=\"color: #00d7ff; text-decoration-color: #00d7ff\">None</span>, <span style=\"color: #00af00; text-decoration-color: #00af00\">128</span>)       │     <span style=\"color: #00af00; text-decoration-color: #00af00\">32,896</span> │ dropout[<span style=\"color: #00af00; text-decoration-color: #00af00\">0</span>][<span style=\"color: #00af00; text-decoration-color: #00af00\">0</span>]     │\n",
       "├─────────────────────┼───────────────────┼────────────┼───────────────────┤\n",
       "│ dense_1 (<span style=\"color: #0087ff; text-decoration-color: #0087ff\">Dense</span>)     │ (<span style=\"color: #00d7ff; text-decoration-color: #00d7ff\">None</span>, <span style=\"color: #00af00; text-decoration-color: #00af00\">4</span>)         │        <span style=\"color: #00af00; text-decoration-color: #00af00\">516</span> │ dense[<span style=\"color: #00af00; text-decoration-color: #00af00\">0</span>][<span style=\"color: #00af00; text-decoration-color: #00af00\">0</span>]       │\n",
       "└─────────────────────┴───────────────────┴────────────┴───────────────────┘\n",
       "</pre>\n"
      ],
      "text/plain": [
       "┏━━━━━━━━━━━━━━━━━━━━━┳━━━━━━━━━━━━━━━━━━━┳━━━━━━━━━━━━┳━━━━━━━━━━━━━━━━━━━┓\n",
       "┃\u001b[1m \u001b[0m\u001b[1mLayer (type)       \u001b[0m\u001b[1m \u001b[0m┃\u001b[1m \u001b[0m\u001b[1mOutput Shape     \u001b[0m\u001b[1m \u001b[0m┃\u001b[1m \u001b[0m\u001b[1m   Param #\u001b[0m\u001b[1m \u001b[0m┃\u001b[1m \u001b[0m\u001b[1mConnected to     \u001b[0m\u001b[1m \u001b[0m┃\n",
       "┡━━━━━━━━━━━━━━━━━━━━━╇━━━━━━━━━━━━━━━━━━━╇━━━━━━━━━━━━╇━━━━━━━━━━━━━━━━━━━┩\n",
       "│ pitch_in            │ (\u001b[38;5;45mNone\u001b[0m, \u001b[38;5;34m1024\u001b[0m)      │          \u001b[38;5;34m0\u001b[0m │ -                 │\n",
       "│ (\u001b[38;5;33mInputLayer\u001b[0m)        │                   │            │                   │\n",
       "├─────────────────────┼───────────────────┼────────────┼───────────────────┤\n",
       "│ dur_in (\u001b[38;5;33mInputLayer\u001b[0m) │ (\u001b[38;5;45mNone\u001b[0m, \u001b[38;5;34m1024\u001b[0m)      │          \u001b[38;5;34m0\u001b[0m │ -                 │\n",
       "├─────────────────────┼───────────────────┼────────────┼───────────────────┤\n",
       "│ clip_pitch (\u001b[38;5;33mLambda\u001b[0m) │ (\u001b[38;5;45mNone\u001b[0m, \u001b[38;5;34m1024\u001b[0m)      │          \u001b[38;5;34m0\u001b[0m │ pitch_in[\u001b[38;5;34m0\u001b[0m][\u001b[38;5;34m0\u001b[0m]    │\n",
       "├─────────────────────┼───────────────────┼────────────┼───────────────────┤\n",
       "│ clip_dur (\u001b[38;5;33mLambda\u001b[0m)   │ (\u001b[38;5;45mNone\u001b[0m, \u001b[38;5;34m1024\u001b[0m)      │          \u001b[38;5;34m0\u001b[0m │ dur_in[\u001b[38;5;34m0\u001b[0m][\u001b[38;5;34m0\u001b[0m]      │\n",
       "├─────────────────────┼───────────────────┼────────────┼───────────────────┤\n",
       "│ pitch_emb           │ (\u001b[38;5;45mNone\u001b[0m, \u001b[38;5;34m1024\u001b[0m, \u001b[38;5;34m32\u001b[0m)  │      \u001b[38;5;34m4,128\u001b[0m │ clip_pitch[\u001b[38;5;34m0\u001b[0m][\u001b[38;5;34m0\u001b[0m]  │\n",
       "│ (\u001b[38;5;33mEmbedding\u001b[0m)         │                   │            │                   │\n",
       "├─────────────────────┼───────────────────┼────────────┼───────────────────┤\n",
       "│ dur_emb (\u001b[38;5;33mEmbedding\u001b[0m) │ (\u001b[38;5;45mNone\u001b[0m, \u001b[38;5;34m1024\u001b[0m, \u001b[38;5;34m32\u001b[0m)  │     \u001b[38;5;34m32,032\u001b[0m │ clip_dur[\u001b[38;5;34m0\u001b[0m][\u001b[38;5;34m0\u001b[0m]    │\n",
       "├─────────────────────┼───────────────────┼────────────┼───────────────────┤\n",
       "│ concat_feat         │ (\u001b[38;5;45mNone\u001b[0m, \u001b[38;5;34m1024\u001b[0m, \u001b[38;5;34m64\u001b[0m)  │          \u001b[38;5;34m0\u001b[0m │ pitch_emb[\u001b[38;5;34m0\u001b[0m][\u001b[38;5;34m0\u001b[0m],  │\n",
       "│ (\u001b[38;5;33mConcatenate\u001b[0m)       │                   │            │ dur_emb[\u001b[38;5;34m0\u001b[0m][\u001b[38;5;34m0\u001b[0m]     │\n",
       "├─────────────────────┼───────────────────┼────────────┼───────────────────┤\n",
       "│ bidirectional       │ (\u001b[38;5;45mNone\u001b[0m, \u001b[38;5;34m1024\u001b[0m, \u001b[38;5;34m256\u001b[0m) │    \u001b[38;5;34m197,632\u001b[0m │ concat_feat[\u001b[38;5;34m0\u001b[0m][\u001b[38;5;34m0\u001b[0m] │\n",
       "│ (\u001b[38;5;33mBidirectional\u001b[0m)     │                   │            │                   │\n",
       "├─────────────────────┼───────────────────┼────────────┼───────────────────┤\n",
       "│ bidirectional_1     │ (\u001b[38;5;45mNone\u001b[0m, \u001b[38;5;34m256\u001b[0m)       │    \u001b[38;5;34m394,240\u001b[0m │ bidirectional[\u001b[38;5;34m0\u001b[0m]… │\n",
       "│ (\u001b[38;5;33mBidirectional\u001b[0m)     │                   │            │                   │\n",
       "├─────────────────────┼───────────────────┼────────────┼───────────────────┤\n",
       "│ dropout (\u001b[38;5;33mDropout\u001b[0m)   │ (\u001b[38;5;45mNone\u001b[0m, \u001b[38;5;34m256\u001b[0m)       │          \u001b[38;5;34m0\u001b[0m │ bidirectional_1[\u001b[38;5;34m…\u001b[0m │\n",
       "├─────────────────────┼───────────────────┼────────────┼───────────────────┤\n",
       "│ dense (\u001b[38;5;33mDense\u001b[0m)       │ (\u001b[38;5;45mNone\u001b[0m, \u001b[38;5;34m128\u001b[0m)       │     \u001b[38;5;34m32,896\u001b[0m │ dropout[\u001b[38;5;34m0\u001b[0m][\u001b[38;5;34m0\u001b[0m]     │\n",
       "├─────────────────────┼───────────────────┼────────────┼───────────────────┤\n",
       "│ dense_1 (\u001b[38;5;33mDense\u001b[0m)     │ (\u001b[38;5;45mNone\u001b[0m, \u001b[38;5;34m4\u001b[0m)         │        \u001b[38;5;34m516\u001b[0m │ dense[\u001b[38;5;34m0\u001b[0m][\u001b[38;5;34m0\u001b[0m]       │\n",
       "└─────────────────────┴───────────────────┴────────────┴───────────────────┘\n"
      ]
     },
     "metadata": {},
     "output_type": "display_data"
    },
    {
     "data": {
      "text/html": [
       "<pre style=\"white-space:pre;overflow-x:auto;line-height:normal;font-family:Menlo,'DejaVu Sans Mono',consolas,'Courier New',monospace\"><span style=\"font-weight: bold\"> Total params: </span><span style=\"color: #00af00; text-decoration-color: #00af00\">661,444</span> (2.52 MB)\n",
       "</pre>\n"
      ],
      "text/plain": [
       "\u001b[1m Total params: \u001b[0m\u001b[38;5;34m661,444\u001b[0m (2.52 MB)\n"
      ]
     },
     "metadata": {},
     "output_type": "display_data"
    },
    {
     "data": {
      "text/html": [
       "<pre style=\"white-space:pre;overflow-x:auto;line-height:normal;font-family:Menlo,'DejaVu Sans Mono',consolas,'Courier New',monospace\"><span style=\"font-weight: bold\"> Trainable params: </span><span style=\"color: #00af00; text-decoration-color: #00af00\">661,444</span> (2.52 MB)\n",
       "</pre>\n"
      ],
      "text/plain": [
       "\u001b[1m Trainable params: \u001b[0m\u001b[38;5;34m661,444\u001b[0m (2.52 MB)\n"
      ]
     },
     "metadata": {},
     "output_type": "display_data"
    },
    {
     "data": {
      "text/html": [
       "<pre style=\"white-space:pre;overflow-x:auto;line-height:normal;font-family:Menlo,'DejaVu Sans Mono',consolas,'Courier New',monospace\"><span style=\"font-weight: bold\"> Non-trainable params: </span><span style=\"color: #00af00; text-decoration-color: #00af00\">0</span> (0.00 B)\n",
       "</pre>\n"
      ],
      "text/plain": [
       "\u001b[1m Non-trainable params: \u001b[0m\u001b[38;5;34m0\u001b[0m (0.00 B)\n"
      ]
     },
     "metadata": {},
     "output_type": "display_data"
    }
   ],
   "source": [
    "import tensorflow as tf\n",
    "from tensorflow import keras\n",
    "from tensorflow.keras import layers\n",
    "\n",
    "PITCH_VOCAB = 128 + 1     # 0..127 + padding(0)\n",
    "DUR_VOCAB   = 1000 + 1    # 0..1000 (0 is padding)\n",
    "\n",
    "def build_lstm_model(max_len=MAX_SEQ_LEN, num_classes=len(le.classes_),\n",
    "                     pitch_emb=32, dur_emb=32, lstm_units=128, dropout=0.3):\n",
    "    pitch_in = layers.Input(shape=(max_len,), dtype=\"int32\", name=\"pitch_in\")\n",
    "    dur_in   = layers.Input(shape=(max_len,), dtype=\"int32\", name=\"dur_in\")\n",
    "\n",
    "    # ✅ Clip indices INSIDE the graph to valid ranges\n",
    "    pitch_idx = layers.Lambda(lambda x: tf.clip_by_value(x, 0, PITCH_VOCAB-1),\n",
    "                              name=\"clip_pitch\")(pitch_in)\n",
    "    dur_idx   = layers.Lambda(lambda x: tf.clip_by_value(x, 0, DUR_VOCAB-1),\n",
    "                              name=\"clip_dur\")(dur_in)\n",
    "\n",
    "    # No masking to avoid broadcast issues\n",
    "    pitch_e = layers.Embedding(PITCH_VOCAB, pitch_emb, mask_zero=False, name=\"pitch_emb\")(pitch_idx)\n",
    "    dur_e   = layers.Embedding(DUR_VOCAB,   dur_emb,   mask_zero=False, name=\"dur_emb\")(dur_idx)\n",
    "\n",
    "    x = layers.Concatenate(name=\"concat_feat\")([pitch_e, dur_e])\n",
    "    x = layers.Bidirectional(layers.LSTM(lstm_units, return_sequences=True))(x)\n",
    "    x = layers.Bidirectional(layers.LSTM(lstm_units))(x)\n",
    "    x = layers.Dropout(dropout)(x)\n",
    "    x = layers.Dense(128, activation=\"relu\")(x)\n",
    "    out = layers.Dense(num_classes, activation=\"softmax\")(x)\n",
    "\n",
    "    model = keras.Model([pitch_in, dur_in], out, name=\"ComposerLSTM\")\n",
    "    model.compile(optimizer=keras.optimizers.Adam(1e-3),\n",
    "                  loss=\"sparse_categorical_crossentropy\",\n",
    "                  metrics=[\"accuracy\"])\n",
    "    return model\n",
    "\n",
    "keras.backend.clear_session()\n",
    "lstm_model = build_lstm_model()\n",
    "lstm_model.summary()\n"
   ]
  },
  {
   "cell_type": "code",
   "execution_count": 28,
   "id": "d1d284b8-13cb-49be-9044-41be2c762810",
   "metadata": {},
   "outputs": [],
   "source": [
    "# Ensure type + contiguous memory (Windows/NumPy sometimes gets cranky)\n",
    "Xseq_train_pitch = np.ascontiguousarray(Xseq_train_pitch.astype(\"int32\"))\n",
    "Xseq_train_dur   = np.ascontiguousarray(Xseq_train_dur.astype(\"int32\"))\n",
    "Xseq_val_pitch   = np.ascontiguousarray(Xseq_val_pitch.astype(\"int32\"))\n",
    "Xseq_val_dur     = np.ascontiguousarray(Xseq_val_dur.astype(\"int32\"))\n",
    "Xseq_test_pitch  = np.ascontiguousarray(Xseq_test_pitch.astype(\"int32\"))\n",
    "Xseq_test_dur    = np.ascontiguousarray(Xseq_test_dur.astype(\"int32\"))\n"
   ]
  },
  {
   "cell_type": "code",
   "execution_count": 30,
   "id": "b1037ee0-e338-447f-971c-437363315034",
   "metadata": {},
   "outputs": [
    {
     "name": "stdout",
     "output_type": "stream",
     "text": [
      "Epoch 1/30\n",
      "\u001b[1m74/74\u001b[0m \u001b[32m━━━━━━━━━━━━━━━━━━━━\u001b[0m\u001b[37m\u001b[0m \u001b[1m107s\u001b[0m 1s/step - accuracy: 0.4970 - loss: 1.3402 - val_accuracy: 0.5359 - val_loss: 1.3034 - learning_rate: 0.0010\n",
      "Epoch 2/30\n",
      "\u001b[1m74/74\u001b[0m \u001b[32m━━━━━━━━━━━━━━━━━━━━\u001b[0m\u001b[37m\u001b[0m \u001b[1m93s\u001b[0m 1s/step - accuracy: 0.5314 - loss: 1.2686 - val_accuracy: 0.1340 - val_loss: 1.3952 - learning_rate: 0.0010\n",
      "Epoch 3/30\n",
      "\u001b[1m74/74\u001b[0m \u001b[32m━━━━━━━━━━━━━━━━━━━━\u001b[0m\u001b[37m\u001b[0m \u001b[1m89s\u001b[0m 1s/step - accuracy: 0.5171 - loss: 1.2266 - val_accuracy: 0.1531 - val_loss: 1.5169 - learning_rate: 0.0010\n",
      "Epoch 4/30\n",
      "\u001b[1m74/74\u001b[0m \u001b[32m━━━━━━━━━━━━━━━━━━━━\u001b[0m\u001b[37m\u001b[0m \u001b[1m87s\u001b[0m 1s/step - accuracy: 0.5782 - loss: 1.1671 - val_accuracy: 0.1435 - val_loss: 1.6372 - learning_rate: 0.0010\n",
      "Epoch 5/30\n",
      "\u001b[1m74/74\u001b[0m \u001b[32m━━━━━━━━━━━━━━━━━━━━\u001b[0m\u001b[37m\u001b[0m \u001b[1m87s\u001b[0m 1s/step - accuracy: 0.5817 - loss: 1.0751 - val_accuracy: 0.1005 - val_loss: 1.7576 - learning_rate: 5.0000e-04\n",
      "Epoch 6/30\n",
      "\u001b[1m74/74\u001b[0m \u001b[32m━━━━━━━━━━━━━━━━━━━━\u001b[0m\u001b[37m\u001b[0m \u001b[1m89s\u001b[0m 1s/step - accuracy: 0.6413 - loss: 1.0073 - val_accuracy: 0.2392 - val_loss: 1.6148 - learning_rate: 5.0000e-04\n"
     ]
    }
   ],
   "source": [
    "hist_lstm = lstm_model.fit(\n",
    "    x={\"pitch_in\": Xseq_train_pitch, \"dur_in\": Xseq_train_dur},\n",
    "    y=y_train,\n",
    "    validation_data=([Xseq_val_pitch, Xseq_val_dur], y_val),\n",
    "    epochs=EPOCHS,\n",
    "    batch_size=BATCH_SIZE,\n",
    "    class_weight=class_weights,\n",
    "    callbacks=callbacks,\n",
    "    verbose=1\n",
    ")\n"
   ]
  },
  {
   "cell_type": "markdown",
   "id": "c66a17c1-3093-485b-a10c-d0e4995b7da7",
   "metadata": {},
   "source": [
    "## 7B) CNN"
   ]
  },
  {
   "cell_type": "code",
   "execution_count": 32,
   "id": "82b8adc8-8622-4398-9ef9-a956e1b43884",
   "metadata": {},
   "outputs": [
    {
     "data": {
      "text/html": [
       "<pre style=\"white-space:pre;overflow-x:auto;line-height:normal;font-family:Menlo,'DejaVu Sans Mono',consolas,'Courier New',monospace\"><span style=\"font-weight: bold\">Model: \"ComposerCNN\"</span>\n",
       "</pre>\n"
      ],
      "text/plain": [
       "\u001b[1mModel: \"ComposerCNN\"\u001b[0m\n"
      ]
     },
     "metadata": {},
     "output_type": "display_data"
    },
    {
     "data": {
      "text/html": [
       "<pre style=\"white-space:pre;overflow-x:auto;line-height:normal;font-family:Menlo,'DejaVu Sans Mono',consolas,'Courier New',monospace\">┏━━━━━━━━━━━━━━━━━━━━━━━━━━━━━━━━━┳━━━━━━━━━━━━━━━━━━━━━━━━┳━━━━━━━━━━━━━━━┓\n",
       "┃<span style=\"font-weight: bold\"> Layer (type)                    </span>┃<span style=\"font-weight: bold\"> Output Shape           </span>┃<span style=\"font-weight: bold\">       Param # </span>┃\n",
       "┡━━━━━━━━━━━━━━━━━━━━━━━━━━━━━━━━━╇━━━━━━━━━━━━━━━━━━━━━━━━╇━━━━━━━━━━━━━━━┩\n",
       "│ input_layer (<span style=\"color: #0087ff; text-decoration-color: #0087ff\">InputLayer</span>)        │ (<span style=\"color: #00d7ff; text-decoration-color: #00d7ff\">None</span>, <span style=\"color: #00af00; text-decoration-color: #00af00\">480</span>, <span style=\"color: #00af00; text-decoration-color: #00af00\">128</span>, <span style=\"color: #00af00; text-decoration-color: #00af00\">1</span>)    │             <span style=\"color: #00af00; text-decoration-color: #00af00\">0</span> │\n",
       "├─────────────────────────────────┼────────────────────────┼───────────────┤\n",
       "│ conv2d (<span style=\"color: #0087ff; text-decoration-color: #0087ff\">Conv2D</span>)                 │ (<span style=\"color: #00d7ff; text-decoration-color: #00d7ff\">None</span>, <span style=\"color: #00af00; text-decoration-color: #00af00\">480</span>, <span style=\"color: #00af00; text-decoration-color: #00af00\">128</span>, <span style=\"color: #00af00; text-decoration-color: #00af00\">32</span>)   │           <span style=\"color: #00af00; text-decoration-color: #00af00\">832</span> │\n",
       "├─────────────────────────────────┼────────────────────────┼───────────────┤\n",
       "│ max_pooling2d (<span style=\"color: #0087ff; text-decoration-color: #0087ff\">MaxPooling2D</span>)    │ (<span style=\"color: #00d7ff; text-decoration-color: #00d7ff\">None</span>, <span style=\"color: #00af00; text-decoration-color: #00af00\">240</span>, <span style=\"color: #00af00; text-decoration-color: #00af00\">64</span>, <span style=\"color: #00af00; text-decoration-color: #00af00\">32</span>)    │             <span style=\"color: #00af00; text-decoration-color: #00af00\">0</span> │\n",
       "├─────────────────────────────────┼────────────────────────┼───────────────┤\n",
       "│ conv2d_1 (<span style=\"color: #0087ff; text-decoration-color: #0087ff\">Conv2D</span>)               │ (<span style=\"color: #00d7ff; text-decoration-color: #00d7ff\">None</span>, <span style=\"color: #00af00; text-decoration-color: #00af00\">240</span>, <span style=\"color: #00af00; text-decoration-color: #00af00\">64</span>, <span style=\"color: #00af00; text-decoration-color: #00af00\">64</span>)    │        <span style=\"color: #00af00; text-decoration-color: #00af00\">18,496</span> │\n",
       "├─────────────────────────────────┼────────────────────────┼───────────────┤\n",
       "│ max_pooling2d_1 (<span style=\"color: #0087ff; text-decoration-color: #0087ff\">MaxPooling2D</span>)  │ (<span style=\"color: #00d7ff; text-decoration-color: #00d7ff\">None</span>, <span style=\"color: #00af00; text-decoration-color: #00af00\">120</span>, <span style=\"color: #00af00; text-decoration-color: #00af00\">32</span>, <span style=\"color: #00af00; text-decoration-color: #00af00\">64</span>)    │             <span style=\"color: #00af00; text-decoration-color: #00af00\">0</span> │\n",
       "├─────────────────────────────────┼────────────────────────┼───────────────┤\n",
       "│ conv2d_2 (<span style=\"color: #0087ff; text-decoration-color: #0087ff\">Conv2D</span>)               │ (<span style=\"color: #00d7ff; text-decoration-color: #00d7ff\">None</span>, <span style=\"color: #00af00; text-decoration-color: #00af00\">120</span>, <span style=\"color: #00af00; text-decoration-color: #00af00\">32</span>, <span style=\"color: #00af00; text-decoration-color: #00af00\">128</span>)   │        <span style=\"color: #00af00; text-decoration-color: #00af00\">73,856</span> │\n",
       "├─────────────────────────────────┼────────────────────────┼───────────────┤\n",
       "│ global_average_pooling2d        │ (<span style=\"color: #00d7ff; text-decoration-color: #00d7ff\">None</span>, <span style=\"color: #00af00; text-decoration-color: #00af00\">128</span>)            │             <span style=\"color: #00af00; text-decoration-color: #00af00\">0</span> │\n",
       "│ (<span style=\"color: #0087ff; text-decoration-color: #0087ff\">GlobalAveragePooling2D</span>)        │                        │               │\n",
       "├─────────────────────────────────┼────────────────────────┼───────────────┤\n",
       "│ dropout_1 (<span style=\"color: #0087ff; text-decoration-color: #0087ff\">Dropout</span>)             │ (<span style=\"color: #00d7ff; text-decoration-color: #00d7ff\">None</span>, <span style=\"color: #00af00; text-decoration-color: #00af00\">128</span>)            │             <span style=\"color: #00af00; text-decoration-color: #00af00\">0</span> │\n",
       "├─────────────────────────────────┼────────────────────────┼───────────────┤\n",
       "│ dense_2 (<span style=\"color: #0087ff; text-decoration-color: #0087ff\">Dense</span>)                 │ (<span style=\"color: #00d7ff; text-decoration-color: #00d7ff\">None</span>, <span style=\"color: #00af00; text-decoration-color: #00af00\">128</span>)            │        <span style=\"color: #00af00; text-decoration-color: #00af00\">16,512</span> │\n",
       "├─────────────────────────────────┼────────────────────────┼───────────────┤\n",
       "│ dense_3 (<span style=\"color: #0087ff; text-decoration-color: #0087ff\">Dense</span>)                 │ (<span style=\"color: #00d7ff; text-decoration-color: #00d7ff\">None</span>, <span style=\"color: #00af00; text-decoration-color: #00af00\">4</span>)              │           <span style=\"color: #00af00; text-decoration-color: #00af00\">516</span> │\n",
       "└─────────────────────────────────┴────────────────────────┴───────────────┘\n",
       "</pre>\n"
      ],
      "text/plain": [
       "┏━━━━━━━━━━━━━━━━━━━━━━━━━━━━━━━━━┳━━━━━━━━━━━━━━━━━━━━━━━━┳━━━━━━━━━━━━━━━┓\n",
       "┃\u001b[1m \u001b[0m\u001b[1mLayer (type)                   \u001b[0m\u001b[1m \u001b[0m┃\u001b[1m \u001b[0m\u001b[1mOutput Shape          \u001b[0m\u001b[1m \u001b[0m┃\u001b[1m \u001b[0m\u001b[1m      Param #\u001b[0m\u001b[1m \u001b[0m┃\n",
       "┡━━━━━━━━━━━━━━━━━━━━━━━━━━━━━━━━━╇━━━━━━━━━━━━━━━━━━━━━━━━╇━━━━━━━━━━━━━━━┩\n",
       "│ input_layer (\u001b[38;5;33mInputLayer\u001b[0m)        │ (\u001b[38;5;45mNone\u001b[0m, \u001b[38;5;34m480\u001b[0m, \u001b[38;5;34m128\u001b[0m, \u001b[38;5;34m1\u001b[0m)    │             \u001b[38;5;34m0\u001b[0m │\n",
       "├─────────────────────────────────┼────────────────────────┼───────────────┤\n",
       "│ conv2d (\u001b[38;5;33mConv2D\u001b[0m)                 │ (\u001b[38;5;45mNone\u001b[0m, \u001b[38;5;34m480\u001b[0m, \u001b[38;5;34m128\u001b[0m, \u001b[38;5;34m32\u001b[0m)   │           \u001b[38;5;34m832\u001b[0m │\n",
       "├─────────────────────────────────┼────────────────────────┼───────────────┤\n",
       "│ max_pooling2d (\u001b[38;5;33mMaxPooling2D\u001b[0m)    │ (\u001b[38;5;45mNone\u001b[0m, \u001b[38;5;34m240\u001b[0m, \u001b[38;5;34m64\u001b[0m, \u001b[38;5;34m32\u001b[0m)    │             \u001b[38;5;34m0\u001b[0m │\n",
       "├─────────────────────────────────┼────────────────────────┼───────────────┤\n",
       "│ conv2d_1 (\u001b[38;5;33mConv2D\u001b[0m)               │ (\u001b[38;5;45mNone\u001b[0m, \u001b[38;5;34m240\u001b[0m, \u001b[38;5;34m64\u001b[0m, \u001b[38;5;34m64\u001b[0m)    │        \u001b[38;5;34m18,496\u001b[0m │\n",
       "├─────────────────────────────────┼────────────────────────┼───────────────┤\n",
       "│ max_pooling2d_1 (\u001b[38;5;33mMaxPooling2D\u001b[0m)  │ (\u001b[38;5;45mNone\u001b[0m, \u001b[38;5;34m120\u001b[0m, \u001b[38;5;34m32\u001b[0m, \u001b[38;5;34m64\u001b[0m)    │             \u001b[38;5;34m0\u001b[0m │\n",
       "├─────────────────────────────────┼────────────────────────┼───────────────┤\n",
       "│ conv2d_2 (\u001b[38;5;33mConv2D\u001b[0m)               │ (\u001b[38;5;45mNone\u001b[0m, \u001b[38;5;34m120\u001b[0m, \u001b[38;5;34m32\u001b[0m, \u001b[38;5;34m128\u001b[0m)   │        \u001b[38;5;34m73,856\u001b[0m │\n",
       "├─────────────────────────────────┼────────────────────────┼───────────────┤\n",
       "│ global_average_pooling2d        │ (\u001b[38;5;45mNone\u001b[0m, \u001b[38;5;34m128\u001b[0m)            │             \u001b[38;5;34m0\u001b[0m │\n",
       "│ (\u001b[38;5;33mGlobalAveragePooling2D\u001b[0m)        │                        │               │\n",
       "├─────────────────────────────────┼────────────────────────┼───────────────┤\n",
       "│ dropout_1 (\u001b[38;5;33mDropout\u001b[0m)             │ (\u001b[38;5;45mNone\u001b[0m, \u001b[38;5;34m128\u001b[0m)            │             \u001b[38;5;34m0\u001b[0m │\n",
       "├─────────────────────────────────┼────────────────────────┼───────────────┤\n",
       "│ dense_2 (\u001b[38;5;33mDense\u001b[0m)                 │ (\u001b[38;5;45mNone\u001b[0m, \u001b[38;5;34m128\u001b[0m)            │        \u001b[38;5;34m16,512\u001b[0m │\n",
       "├─────────────────────────────────┼────────────────────────┼───────────────┤\n",
       "│ dense_3 (\u001b[38;5;33mDense\u001b[0m)                 │ (\u001b[38;5;45mNone\u001b[0m, \u001b[38;5;34m4\u001b[0m)              │           \u001b[38;5;34m516\u001b[0m │\n",
       "└─────────────────────────────────┴────────────────────────┴───────────────┘\n"
      ]
     },
     "metadata": {},
     "output_type": "display_data"
    },
    {
     "data": {
      "text/html": [
       "<pre style=\"white-space:pre;overflow-x:auto;line-height:normal;font-family:Menlo,'DejaVu Sans Mono',consolas,'Courier New',monospace\"><span style=\"font-weight: bold\"> Total params: </span><span style=\"color: #00af00; text-decoration-color: #00af00\">110,212</span> (430.52 KB)\n",
       "</pre>\n"
      ],
      "text/plain": [
       "\u001b[1m Total params: \u001b[0m\u001b[38;5;34m110,212\u001b[0m (430.52 KB)\n"
      ]
     },
     "metadata": {},
     "output_type": "display_data"
    },
    {
     "data": {
      "text/html": [
       "<pre style=\"white-space:pre;overflow-x:auto;line-height:normal;font-family:Menlo,'DejaVu Sans Mono',consolas,'Courier New',monospace\"><span style=\"font-weight: bold\"> Trainable params: </span><span style=\"color: #00af00; text-decoration-color: #00af00\">110,212</span> (430.52 KB)\n",
       "</pre>\n"
      ],
      "text/plain": [
       "\u001b[1m Trainable params: \u001b[0m\u001b[38;5;34m110,212\u001b[0m (430.52 KB)\n"
      ]
     },
     "metadata": {},
     "output_type": "display_data"
    },
    {
     "data": {
      "text/html": [
       "<pre style=\"white-space:pre;overflow-x:auto;line-height:normal;font-family:Menlo,'DejaVu Sans Mono',consolas,'Courier New',monospace\"><span style=\"font-weight: bold\"> Non-trainable params: </span><span style=\"color: #00af00; text-decoration-color: #00af00\">0</span> (0.00 B)\n",
       "</pre>\n"
      ],
      "text/plain": [
       "\u001b[1m Non-trainable params: \u001b[0m\u001b[38;5;34m0\u001b[0m (0.00 B)\n"
      ]
     },
     "metadata": {},
     "output_type": "display_data"
    },
    {
     "name": "stdout",
     "output_type": "stream",
     "text": [
      "Epoch 1/30\n",
      "\u001b[1m74/74\u001b[0m \u001b[32m━━━━━━━━━━━━━━━━━━━━\u001b[0m\u001b[37m\u001b[0m \u001b[1m28s\u001b[0m 353ms/step - accuracy: 0.2559 - loss: 1.4029 - val_accuracy: 0.1148 - val_loss: 1.3877 - learning_rate: 0.0010\n",
      "Epoch 2/30\n",
      "\u001b[1m74/74\u001b[0m \u001b[32m━━━━━━━━━━━━━━━━━━━━\u001b[0m\u001b[37m\u001b[0m \u001b[1m27s\u001b[0m 368ms/step - accuracy: 0.1682 - loss: 1.3987 - val_accuracy: 0.0861 - val_loss: 1.4075 - learning_rate: 0.0010\n",
      "Epoch 3/30\n",
      "\u001b[1m74/74\u001b[0m \u001b[32m━━━━━━━━━━━━━━━━━━━━\u001b[0m\u001b[37m\u001b[0m \u001b[1m27s\u001b[0m 371ms/step - accuracy: 0.1274 - loss: 1.3974 - val_accuracy: 0.0909 - val_loss: 1.4299 - learning_rate: 0.0010\n",
      "Epoch 4/30\n",
      "\u001b[1m74/74\u001b[0m \u001b[32m━━━━━━━━━━━━━━━━━━━━\u001b[0m\u001b[37m\u001b[0m \u001b[1m27s\u001b[0m 370ms/step - accuracy: 0.1207 - loss: 1.3860 - val_accuracy: 0.1340 - val_loss: 1.3670 - learning_rate: 0.0010\n",
      "Epoch 5/30\n",
      "\u001b[1m74/74\u001b[0m \u001b[32m━━━━━━━━━━━━━━━━━━━━\u001b[0m\u001b[37m\u001b[0m \u001b[1m27s\u001b[0m 370ms/step - accuracy: 0.2505 - loss: 1.3634 - val_accuracy: 0.5646 - val_loss: 1.2682 - learning_rate: 0.0010\n",
      "Epoch 6/30\n",
      "\u001b[1m74/74\u001b[0m \u001b[32m━━━━━━━━━━━━━━━━━━━━\u001b[0m\u001b[37m\u001b[0m \u001b[1m27s\u001b[0m 362ms/step - accuracy: 0.5111 - loss: 1.3313 - val_accuracy: 0.6077 - val_loss: 1.1924 - learning_rate: 0.0010\n",
      "Epoch 7/30\n",
      "\u001b[1m74/74\u001b[0m \u001b[32m━━━━━━━━━━━━━━━━━━━━\u001b[0m\u001b[37m\u001b[0m \u001b[1m26s\u001b[0m 358ms/step - accuracy: 0.5317 - loss: 1.3048 - val_accuracy: 0.6555 - val_loss: 1.1030 - learning_rate: 0.0010\n",
      "Epoch 8/30\n",
      "\u001b[1m74/74\u001b[0m \u001b[32m━━━━━━━━━━━━━━━━━━━━\u001b[0m\u001b[37m\u001b[0m \u001b[1m27s\u001b[0m 365ms/step - accuracy: 0.5292 - loss: 1.2795 - val_accuracy: 0.6459 - val_loss: 1.1241 - learning_rate: 0.0010\n",
      "Epoch 9/30\n",
      "\u001b[1m74/74\u001b[0m \u001b[32m━━━━━━━━━━━━━━━━━━━━\u001b[0m\u001b[37m\u001b[0m \u001b[1m28s\u001b[0m 378ms/step - accuracy: 0.5461 - loss: 1.2736 - val_accuracy: 0.6603 - val_loss: 1.0398 - learning_rate: 0.0010\n",
      "Epoch 10/30\n",
      "\u001b[1m74/74\u001b[0m \u001b[32m━━━━━━━━━━━━━━━━━━━━\u001b[0m\u001b[37m\u001b[0m \u001b[1m28s\u001b[0m 372ms/step - accuracy: 0.5687 - loss: 1.2347 - val_accuracy: 0.6699 - val_loss: 0.9156 - learning_rate: 0.0010\n",
      "Epoch 11/30\n",
      "\u001b[1m74/74\u001b[0m \u001b[32m━━━━━━━━━━━━━━━━━━━━\u001b[0m\u001b[37m\u001b[0m \u001b[1m27s\u001b[0m 371ms/step - accuracy: 0.5930 - loss: 1.1700 - val_accuracy: 0.6603 - val_loss: 0.8186 - learning_rate: 0.0010\n",
      "Epoch 12/30\n",
      "\u001b[1m74/74\u001b[0m \u001b[32m━━━━━━━━━━━━━━━━━━━━\u001b[0m\u001b[37m\u001b[0m \u001b[1m27s\u001b[0m 364ms/step - accuracy: 0.6210 - loss: 1.0945 - val_accuracy: 0.7081 - val_loss: 0.7111 - learning_rate: 0.0010\n",
      "Epoch 13/30\n",
      "\u001b[1m74/74\u001b[0m \u001b[32m━━━━━━━━━━━━━━━━━━━━\u001b[0m\u001b[37m\u001b[0m \u001b[1m27s\u001b[0m 358ms/step - accuracy: 0.6393 - loss: 1.0526 - val_accuracy: 0.6842 - val_loss: 0.6944 - learning_rate: 0.0010\n",
      "Epoch 14/30\n",
      "\u001b[1m74/74\u001b[0m \u001b[32m━━━━━━━━━━━━━━━━━━━━\u001b[0m\u001b[37m\u001b[0m \u001b[1m27s\u001b[0m 358ms/step - accuracy: 0.6610 - loss: 1.0199 - val_accuracy: 0.7177 - val_loss: 0.6760 - learning_rate: 0.0010\n",
      "Epoch 15/30\n",
      "\u001b[1m74/74\u001b[0m \u001b[32m━━━━━━━━━━━━━━━━━━━━\u001b[0m\u001b[37m\u001b[0m \u001b[1m27s\u001b[0m 364ms/step - accuracy: 0.6318 - loss: 1.0462 - val_accuracy: 0.7081 - val_loss: 0.6761 - learning_rate: 0.0010\n",
      "Epoch 16/30\n",
      "\u001b[1m74/74\u001b[0m \u001b[32m━━━━━━━━━━━━━━━━━━━━\u001b[0m\u001b[37m\u001b[0m \u001b[1m27s\u001b[0m 365ms/step - accuracy: 0.6419 - loss: 1.0269 - val_accuracy: 0.7129 - val_loss: 0.6609 - learning_rate: 0.0010\n",
      "Epoch 17/30\n",
      "\u001b[1m74/74\u001b[0m \u001b[32m━━━━━━━━━━━━━━━━━━━━\u001b[0m\u001b[37m\u001b[0m \u001b[1m28s\u001b[0m 373ms/step - accuracy: 0.6199 - loss: 1.0423 - val_accuracy: 0.7129 - val_loss: 0.6730 - learning_rate: 0.0010\n",
      "Epoch 18/30\n",
      "\u001b[1m74/74\u001b[0m \u001b[32m━━━━━━━━━━━━━━━━━━━━\u001b[0m\u001b[37m\u001b[0m \u001b[1m28s\u001b[0m 372ms/step - accuracy: 0.6357 - loss: 1.0460 - val_accuracy: 0.7129 - val_loss: 0.7048 - learning_rate: 0.0010\n",
      "Epoch 19/30\n",
      "\u001b[1m74/74\u001b[0m \u001b[32m━━━━━━━━━━━━━━━━━━━━\u001b[0m\u001b[37m\u001b[0m \u001b[1m27s\u001b[0m 361ms/step - accuracy: 0.6333 - loss: 1.0587 - val_accuracy: 0.7081 - val_loss: 0.7057 - learning_rate: 0.0010\n"
     ]
    }
   ],
   "source": [
    "cnn_model = build_cnn_model(Xroll_train_cnn.shape[1:])\n",
    "cnn_model.summary()\n",
    "\n",
    "hist_cnn = cnn_model.fit(\n",
    "    x=Xroll_train_cnn, y=y_train,\n",
    "    validation_data=(Xroll_val_cnn, y_val),\n",
    "    epochs=EPOCHS,\n",
    "    batch_size=BATCH_SIZE,\n",
    "    class_weight=class_weights,\n",
    "    callbacks=callbacks,\n",
    "    verbose=1\n",
    ")\n"
   ]
  },
  {
   "cell_type": "markdown",
   "id": "b966d8c4-3d59-42b0-a9cd-d7201120a951",
   "metadata": {},
   "source": [
    "## Evalation of Models\n"
   ]
  },
  {
   "cell_type": "code",
   "execution_count": 34,
   "id": "830888ba-cba2-4268-a026-1ad7d80e9409",
   "metadata": {},
   "outputs": [
    {
     "name": "stdout",
     "output_type": "stream",
     "text": [
      "\n",
      "ComposerLSTM — Test Accuracy: 0.551 | Macro-Precision: 0.476 | Macro-Recall: 0.476\n",
      "\n",
      "              precision    recall  f1-score   support\n",
      "\n",
      "        Bach       0.87      0.64      0.74       154\n",
      "   Beethoven       0.30      0.53      0.39        32\n",
      "      Chopin       0.17      0.50      0.25        20\n",
      "      Mozart       0.56      0.23      0.33        39\n",
      "\n",
      "    accuracy                           0.55       245\n",
      "   macro avg       0.48      0.48      0.43       245\n",
      "weighted avg       0.69      0.55      0.59       245\n",
      "\n"
     ]
    },
    {
     "data": {
      "image/png": "[encoded data removed]",
      "text/plain": [
       "<Figure size 500x400 with 1 Axes>"
      ]
     },
     "metadata": {},
     "output_type": "display_data"
    },
    {
     "name": "stdout",
     "output_type": "stream",
     "text": [
      "\n",
      "ComposerCNN — Test Accuracy: 0.702 | Macro-Precision: 0.533 | Macro-Recall: 0.513\n",
      "\n",
      "              precision    recall  f1-score   support\n",
      "\n",
      "        Bach       0.89      0.88      0.89       154\n",
      "   Beethoven       0.26      0.16      0.20        32\n",
      "      Chopin       0.60      0.45      0.51        20\n",
      "      Mozart       0.38      0.56      0.45        39\n",
      "\n",
      "    accuracy                           0.70       245\n",
      "   macro avg       0.53      0.51      0.51       245\n",
      "weighted avg       0.70      0.70      0.70       245\n",
      "\n"
     ]
    },
    {
     "data": {
      "image/png": "[encoded data removed]",
      "text/plain": [
       "<Figure size 500x400 with 1 Axes>"
      ]
     },
     "metadata": {},
     "output_type": "display_data"
    }
   ],
   "source": [
    "def eval_and_report(model, X, y_true, model_type, class_names):\n",
    "    import numpy as np, matplotlib.pyplot as plt\n",
    "    from sklearn.metrics import classification_report, confusion_matrix, accuracy_score, precision_score, recall_score\n",
    "\n",
    "    if model_type == \"LSTM\":\n",
    "        y_prob = model.predict({\"pitch_in\": X[0], \"dur_in\": X[1]}, verbose=0)\n",
    "    else:\n",
    "        y_prob = model.predict(X, verbose=0)\n",
    "    y_pred = np.argmax(y_prob, axis=1)\n",
    "\n",
    "    acc  = accuracy_score(y_true, y_pred)\n",
    "    prec = precision_score(y_true, y_pred, average=\"macro\", zero_division=0)\n",
    "    rec  = recall_score(y_true, y_pred, average=\"macro\",  zero_division=0)\n",
    "    print(f\"\\n{model.name} — Test Accuracy: {acc:.3f} | Macro-Precision: {prec:.3f} | Macro-Recall: {rec:.3f}\\n\")\n",
    "    print(classification_report(y_true, y_pred, target_names=class_names, zero_division=0))\n",
    "\n",
    "    cm = confusion_matrix(y_true, y_pred)\n",
    "    plt.figure(figsize=(5,4))\n",
    "    plt.imshow(cm, cmap=\"Blues\")\n",
    "    plt.title(f\"{model.name} — Confusion Matrix\")\n",
    "    plt.xlabel(\"Predicted\"); plt.ylabel(\"True\")\n",
    "    plt.xticks(range(len(class_names)), class_names, rotation=45)\n",
    "    plt.yticks(range(len(class_names)), class_names)\n",
    "    for i in range(len(class_names)):\n",
    "        for j in range(len(class_names)):\n",
    "            plt.text(j, i, cm[i, j], ha=\"center\", va=\"center\")\n",
    "    plt.tight_layout(); plt.show()\n",
    "\n",
    "# LSTM\n",
    "eval_and_report(\n",
    "    lstm_model,\n",
    "    (Xseq_test_pitch, Xseq_test_dur),\n",
    "    y_test,\n",
    "    model_type=\"LSTM\",\n",
    "    class_names=list(le.classes_)\n",
    ")\n",
    "\n",
    "# CNN\n",
    "eval_and_report(\n",
    "    cnn_model,\n",
    "    Xroll_test_cnn,\n",
    "    y_test,\n",
    "    model_type=\"CNN\",\n",
    "    class_names=list(le.classes_)\n",
    ")\n"
   ]
  },
  {
   "cell_type": "markdown",
   "id": "938ee72e-4d91-4634-9198-8c4edd2cf294",
   "metadata": {},
   "source": [
    "## Do a quick ensemble (often boosts accuracy a bit)"
   ]
  },
  {
   "cell_type": "code",
   "execution_count": 37,
   "id": "01b67a38-53d4-45b3-a300-a12d34aa15f0",
   "metadata": {},
   "outputs": [
    {
     "name": "stdout",
     "output_type": "stream",
     "text": [
      "\n",
      "Ensemble — Test Accuracy: 0.714 | Macro-Precision: 0.524 | Macro-Recall: 0.515\n",
      "\n",
      "              precision    recall  f1-score   support\n",
      "\n",
      "        Bach       0.89      0.90      0.89       154\n",
      "   Beethoven       0.30      0.22      0.25        32\n",
      "      Chopin       0.47      0.40      0.43        20\n",
      "      Mozart       0.44      0.54      0.48        39\n",
      "\n",
      "    accuracy                           0.71       245\n",
      "   macro avg       0.52      0.51      0.52       245\n",
      "weighted avg       0.70      0.71      0.71       245\n",
      "\n"
     ]
    }
   ],
   "source": [
    "import numpy as np\n",
    "# Probabilities\n",
    "prob_lstm = lstm_model.predict({\"pitch_in\": Xseq_test_pitch, \"dur_in\": Xseq_test_dur}, verbose=0)\n",
    "prob_cnn  = cnn_model.predict(Xroll_test_cnn, verbose=0)\n",
    "\n",
    "# Simple average (you can also try weighted averages e.g., 0.6*LSTM + 0.4*CNN)\n",
    "prob_ens = (prob_lstm + prob_cnn) / 2.0\n",
    "y_pred_ens = np.argmax(prob_ens, axis=1)\n",
    "\n",
    "from sklearn.metrics import accuracy_score, precision_score, recall_score, classification_report, confusion_matrix\n",
    "acc  = accuracy_score(y_test, y_pred_ens)\n",
    "prec = precision_score(y_test, y_pred_ens, average=\"macro\", zero_division=0)\n",
    "rec  = recall_score(y_test, y_pred_ens, average=\"macro\", zero_division=0)\n",
    "print(f\"\\nEnsemble — Test Accuracy: {acc:.3f} | Macro-Precision: {prec:.3f} | Macro-Recall: {rec:.3f}\\n\")\n",
    "print(classification_report(y_test, y_pred_ens, target_names=list(le.classes_), zero_division=0))\n"
   ]
  },
  {
   "cell_type": "markdown",
   "id": "2c4557a9-c322-459f-afbb-e326e296c95e",
   "metadata": {},
   "source": [
    "## Save everything"
   ]
  },
  {
   "cell_type": "code",
   "execution_count": 40,
   "id": "85033e2c-2c13-4cdb-ac8a-dcd7e4b3bb4d",
   "metadata": {},
   "outputs": [
    {
     "name": "stdout",
     "output_type": "stream",
     "text": [
      "Saved models, probs, and labels.\n"
     ]
    }
   ],
   "source": [
    "lstm_model.save(\"model_lstm.keras\")\n",
    "cnn_model.save(\"model_cnn.keras\")\n",
    "np.save(\"y_test.npy\", y_test)\n",
    "np.save(\"prob_lstm.npy\", prob_lstm)\n",
    "np.save(\"prob_cnn.npy\", prob_cnn)\n",
    "with open(\"labels.txt\", \"w\") as f:\n",
    "    for i, name in enumerate(le.classes_):\n",
    "        f.write(f\"{i}\\t{name}\\n\")\n",
    "print(\"Saved models, probs, and labels.\")\n"
   ]
  },
  {
   "cell_type": "code",
   "execution_count": null,
   "id": "2eb09291-439c-4cdf-bf2c-c12fc554d186",
   "metadata": {},
   "outputs": [],
   "source": []
  }
 ],
 "metadata": {
  "kernelspec": {
   "display_name": "Python 3 (ipykernel)",
   "language": "python",
   "name": "python3"
  },
  "language_info": {
   "codemirror_mode": {
    "name": "ipython",
    "version": 3
   },
   "file_extension": ".py",
   "mimetype": "text/x-python",
   "name": "python",
   "nbconvert_exporter": "python",
   "pygments_lexer": "ipython3",
   "version": "3.12.4"
  }
 },
 "nbformat": 4,
 "nbformat_minor": 5
}
